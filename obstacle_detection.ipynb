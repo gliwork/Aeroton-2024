{
 "cells": [
  {
   "cell_type": "code",
   "execution_count": 51,
   "id": "a2168556",
   "metadata": {},
   "outputs": [],
   "source": [
    "import cv2\n",
    "import numpy as np\n",
    "import os\n",
    "from PIL import Image, ImageDraw, ImageFont\n"
   ]
  },
  {
   "cell_type": "code",
   "execution_count": 52,
   "id": "0445cc99",
   "metadata": {},
   "outputs": [],
   "source": [
    "def max_dist_pix(list_of_arr):\n",
    "    dist_arrays = [distance(arr) for arr in list_of_arr]\n",
    "    max_dist = max(dist_arrays)#dist(arr1), dist(arr2), dist(arr3)\n",
    "    return max_dist"
   ]
  },
  {
   "cell_type": "code",
   "execution_count": 53,
   "id": "d03e0b20",
   "metadata": {},
   "outputs": [],
   "source": [
    "def line(coeff, n):\n",
    "    coord = []\n",
    "    for i in range(n):\n",
    "        coord.append(np.rint(coeff*i))\n",
    "    return coord\n",
    "\n",
    "def make_line_values(image_array, coeff, n):\n",
    "    arr = line(coeff,n)\n",
    "    array = np.zeros([len(arr)])\n",
    "    for n in range(len(arr)):\n",
    "        idx = arr[n]+[x,y]\n",
    "        new_x = int(idx[0])\n",
    "        new_y = int(idx[1])\n",
    "        array[n] = image_array[new_x,new_y]\n",
    "    return array"
   ]
  },
  {
   "cell_type": "code",
   "execution_count": 54,
   "id": "5c6cc66c",
   "metadata": {},
   "outputs": [],
   "source": [
    "def min_dist(pix_dist_max):\n",
    "    return 3900/pix_dist_max #36 - coeff empiric"
   ]
  },
  {
   "cell_type": "code",
   "execution_count": 55,
   "id": "1b28503a",
   "metadata": {},
   "outputs": [],
   "source": [
    "def distance(data):\n",
    "    mean_value = np.mean(data)\n",
    "    indices_greater_than_mean = np.where(data > (min([mean_value+30, 240])))[0]\n",
    "    n = len(indices_greater_than_mean)\n",
    "    # Sum the indices and find center\n",
    "    dist = np.sum(indices_greater_than_mean)/n\n",
    "    return dist"
   ]
  },
  {
   "cell_type": "code",
   "execution_count": 56,
   "id": "066d82e4",
   "metadata": {},
   "outputs": [],
   "source": [
    "def frame_process(frame, k):\n",
    "    \n",
    "    arr1 = make_line_values(frame, coeff1, k)\n",
    "    arr2 = make_line_values(frame, coeff2, k)\n",
    "    arr3 = make_line_values(frame, coeff3, k)\n",
    "    list_of_arr = [arr2, arr1, arr3]\n",
    "\n",
    "    pix_dist_max = max_dist_pix(list_of_arr)\n",
    "    #print(f'pix_dist_max - {pix_dist_max}')\n",
    "    min_distance = min_dist(pix_dist_max)\n",
    "    \n",
    "    return min_distance"
   ]
  },
  {
   "cell_type": "code",
   "execution_count": 57,
   "id": "1f57711b",
   "metadata": {},
   "outputs": [],
   "source": [
    "def draw_img(image, distance):\n",
    "    draw = ImageDraw.Draw(image)\n",
    "\n",
    "    # Define the text and font\n",
    "    text = f'distance to objects - {distance} cm'\n",
    "    font_size = 50\n",
    "    font = ImageFont.load_default()  # You can also use a specific TTF font file\n",
    "\n",
    "    # Define the position and color\n",
    "    position = (50, 50)  # Change this to your desired position\n",
    "    color = 128  # White color in RGB\n",
    "\n",
    "    # Add text to the image\n",
    "    draw.text(position, text, fill=color, font=font)\n",
    "    return image\n"
   ]
  },
  {
   "cell_type": "code",
   "execution_count": 58,
   "id": "106135ee",
   "metadata": {},
   "outputs": [],
   "source": [
    "def inform_drone():\n",
    "    print(f'obstacle ahead, distance - {dist}')"
   ]
  },
  {
   "cell_type": "code",
   "execution_count": 59,
   "id": "31b23535",
   "metadata": {},
   "outputs": [],
   "source": [
    "coeff1 = np.array([-1, -0.115])\n",
    "coeff2 = np.array([1, -0.2051])\n",
    "coeff3 = np.array([0.1541, 1])\n",
    "y = 287\n",
    "x = 278\n",
    "k = 50 #num of pixels from center max\n",
    "treshold = 800 #minimum dist to inform drone "
   ]
  },
  {
   "cell_type": "code",
   "execution_count": 63,
   "id": "3cd00c5b",
   "metadata": {},
   "outputs": [
    {
     "name": "stderr",
     "output_type": "stream",
     "text": [
      "C:\\Users\\andre\\AppData\\Local\\Temp\\ipykernel_13532\\616931786.py:6: RuntimeWarning: invalid value encountered in longlong_scalars\n",
      "  dist = np.sum(indices_greater_than_mean)/n\n"
     ]
    }
   ],
   "source": [
    "path = os.getcwd()\n",
    "cap = cv2.VideoCapture(1)  # Open the default camera (0)\n",
    "count = 0\n",
    "while True:\n",
    "    ret, frame = cap.read()  # Read a frame from the webcam\n",
    "    frame = cv2.cvtColor(frame, cv2.COLOR_BGR2GRAY) #convert to grayscale\n",
    "\n",
    "    # Perform processing here on 'frame'\n",
    "    #cv2.imwrite(f\"{path}/frames/frame{count}.jpg\", frame)     # save frame as JPEG file\n",
    "    \n",
    "    dist = frame_process(frame, k)\n",
    "    #print(dist)\n",
    "    if dist < treshold:\n",
    "        inform_drone\n",
    "    #write distance to frame\n",
    "    \n",
    "    \n",
    "    img= Image.fromarray(frame, 'L')\n",
    "    image = draw_img(img, dist)\n",
    "    \n",
    "    #image.save(f'{path}/output/output_image_{count}.jpg')\n",
    "    count +=1\n",
    "    frame = np.array(image)\n",
    "\n",
    "    cv2.imshow('Webcam', frame)  # Display the frame\n",
    "    \n",
    "\n",
    "    if cv2.waitKey(1) & 0xFF == ord('q'):  # Press 'q' to exit\n",
    "        break\n",
    "\n",
    "cap.release()\n",
    "cv2.destroyAllWindows()"
   ]
  },
  {
   "cell_type": "code",
   "execution_count": null,
   "id": "bee1e14e",
   "metadata": {},
   "outputs": [],
   "source": []
  },
  {
   "cell_type": "code",
   "execution_count": null,
   "id": "a68fde40",
   "metadata": {},
   "outputs": [],
   "source": []
  }
 ],
 "metadata": {
  "kernelspec": {
   "display_name": "Python 3 (ipykernel)",
   "language": "python",
   "name": "python3"
  },
  "language_info": {
   "codemirror_mode": {
    "name": "ipython",
    "version": 3
   },
   "file_extension": ".py",
   "mimetype": "text/x-python",
   "name": "python",
   "nbconvert_exporter": "python",
   "pygments_lexer": "ipython3",
   "version": "3.10.9"
  }
 },
 "nbformat": 4,
 "nbformat_minor": 5
}
